{
 "cells": [
  {
   "cell_type": "code",
   "execution_count": 1,
   "id": "152f01a5-4d7a-4986-811a-6ffac31fbb19",
   "metadata": {},
   "outputs": [],
   "source": [
    "import aerosoltools as at"
   ]
  },
  {
   "cell_type": "code",
   "execution_count": 4,
   "id": "97c139fa-e103-490e-a3bc-a20f46e2548c",
   "metadata": {},
   "outputs": [
    {
     "name": "stdout",
     "output_type": "stream",
     "text": [
      "Loading: Sample_Aetholometer.csv\n"
     ]
    },
    {
     "ename": "Exception",
     "evalue": "Unrecognized OPS file format. Unable to parse.",
     "output_type": "error",
     "traceback": [
      "\u001b[1;31m---------------------------------------------------------------------------\u001b[0m",
      "\u001b[1;31mException\u001b[0m                                 Traceback (most recent call last)",
      "Cell \u001b[1;32mIn[4], line 2\u001b[0m\n\u001b[0;32m      1\u001b[0m folderpath \u001b[38;5;241m=\u001b[39m \u001b[38;5;124mr\u001b[39m\u001b[38;5;124m\"\u001b[39m\u001b[38;5;124m..\u001b[39m\u001b[38;5;124m\\\u001b[39m\u001b[38;5;124m..\u001b[39m\u001b[38;5;124m\\\u001b[39m\u001b[38;5;124m..\u001b[39m\u001b[38;5;124m\\\u001b[39m\u001b[38;5;124mtests\u001b[39m\u001b[38;5;124m\\\u001b[39m\u001b[38;5;124mdata\u001b[39m\u001b[38;5;124m\"\u001b[39m;\n\u001b[1;32m----> 2\u001b[0m OPS_data \u001b[38;5;241m=\u001b[39m \u001b[43mat\u001b[49m\u001b[38;5;241;43m.\u001b[39;49m\u001b[43mLoad_data_from_folder\u001b[49m\u001b[43m(\u001b[49m\u001b[43mfolderpath\u001b[49m\u001b[43m,\u001b[49m\u001b[43mat\u001b[49m\u001b[38;5;241;43m.\u001b[39;49m\u001b[43mLoad_OPS_file\u001b[49m\u001b[43m)\u001b[49m\n",
      "File \u001b[1;32m~\\Documents\\GitHub\\aerosoltools\\src\\aerosoltools\\loaders\\Common.py:279\u001b[0m, in \u001b[0;36mLoad_data_from_folder\u001b[1;34m(folder_path, load_function, search_word, max_subfolder, meta_checklist, **kwargs)\u001b[0m\n\u001b[0;32m    277\u001b[0m file_name \u001b[38;5;241m=\u001b[39m file_path\u001b[38;5;241m.\u001b[39msplit(\u001b[38;5;124m\"\u001b[39m\u001b[38;5;130;01m\\\\\u001b[39;00m\u001b[38;5;124m\"\u001b[39m)[\u001b[38;5;241m-\u001b[39m\u001b[38;5;241m1\u001b[39m]\n\u001b[0;32m    278\u001b[0m \u001b[38;5;28mprint\u001b[39m(\u001b[38;5;124mf\u001b[39m\u001b[38;5;124m\"\u001b[39m\u001b[38;5;124mLoading: \u001b[39m\u001b[38;5;132;01m{\u001b[39;00mfile_name\u001b[38;5;132;01m}\u001b[39;00m\u001b[38;5;124m\"\u001b[39m)\n\u001b[1;32m--> 279\u001b[0m next_data \u001b[38;5;241m=\u001b[39m load_function(file_path, \u001b[38;5;241m*\u001b[39m\u001b[38;5;241m*\u001b[39mkwargs)\n\u001b[0;32m    281\u001b[0m \u001b[38;5;28;01mif\u001b[39;00m counter \u001b[38;5;241m==\u001b[39m \u001b[38;5;241m0\u001b[39m:\n\u001b[0;32m    282\u001b[0m     initial_data \u001b[38;5;241m=\u001b[39m next_data\n",
      "File \u001b[1;32m~\\Documents\\GitHub\\aerosoltools\\src\\aerosoltools\\loaders\\OPS.py:67\u001b[0m, in \u001b[0;36mLoad_OPS_file\u001b[1;34m(file, extra_data)\u001b[0m\n\u001b[0;32m     63\u001b[0m     \u001b[38;5;28;01mreturn\u001b[39;00m Load_OPS_Direct(\n\u001b[0;32m     64\u001b[0m         file, extra_data\u001b[38;5;241m=\u001b[39mextra_data, encoding\u001b[38;5;241m=\u001b[39mencoding, delimiter\u001b[38;5;241m=\u001b[39mdelimiter\n\u001b[0;32m     65\u001b[0m     )\n\u001b[0;32m     66\u001b[0m \u001b[38;5;28;01melse\u001b[39;00m:\n\u001b[1;32m---> 67\u001b[0m     \u001b[38;5;28;01mraise\u001b[39;00m \u001b[38;5;167;01mException\u001b[39;00m(\u001b[38;5;124m\"\u001b[39m\u001b[38;5;124mUnrecognized OPS file format. Unable to parse.\u001b[39m\u001b[38;5;124m\"\u001b[39m)\n",
      "\u001b[1;31mException\u001b[0m: Unrecognized OPS file format. Unable to parse."
     ]
    }
   ],
   "source": [
    "folderpath = r\"..\\..\\..\\tests\\data\";\n",
    "OPS_data = at.Load_data_from_folder(folderpath,at.Load_OPS_file);"
   ]
  }
 ],
 "metadata": {
  "kernelspec": {
   "display_name": "Python 3 (ipykernel)",
   "language": "python",
   "name": "python3"
  },
  "language_info": {
   "codemirror_mode": {
    "name": "ipython",
    "version": 3
   },
   "file_extension": ".py",
   "mimetype": "text/x-python",
   "name": "python",
   "nbconvert_exporter": "python",
   "pygments_lexer": "ipython3",
   "version": "3.9.22"
  }
 },
 "nbformat": 4,
 "nbformat_minor": 5
}
